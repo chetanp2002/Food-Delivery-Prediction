{
 "cells": [
  {
   "cell_type": "code",
   "execution_count": 1,
   "metadata": {},
   "outputs": [
    {
     "name": "stdout",
     "output_type": "stream",
     "text": [
      "Latitude: 28.4057599, Longitude: 77.0447882\n"
     ]
    }
   ],
   "source": [
    "import requests\n",
    "\n",
    "def get_lat_long_opencage(address, api_key):\n",
    "    url = f\"https://api.opencagedata.com/geocode/v1/json?q={address}&key={api_key}\"\n",
    "    response = requests.get(url)\n",
    "\n",
    "    if response.status_code == 200:\n",
    "        data = response.json()\n",
    "        if data[\"results\"]:\n",
    "            latitude = data[\"results\"][0][\"geometry\"][\"lat\"]\n",
    "            longitude = data[\"results\"][0][\"geometry\"][\"lng\"]\n",
    "            return latitude, longitude\n",
    "        else:\n",
    "            return None, None\n",
    "    else:\n",
    "        return None, None\n",
    "\n",
    "# Example usage\n",
    "api_key = \"fe6efef7dd0143208de93377c73fcc54\"\n",
    "address = \"Vatika Business Park , sector 49 , gurgaon\"\n",
    "latitude, longitude = get_lat_long_opencage(address, api_key)\n",
    "print(f\"Latitude: {latitude}, Longitude: {longitude}\")\n"
   ]
  },
  {
   "cell_type": "code",
   "execution_count": null,
   "metadata": {},
   "outputs": [],
   "source": []
  }
 ],
 "metadata": {
  "kernelspec": {
   "display_name": "venv",
   "language": "python",
   "name": "python3"
  },
  "language_info": {
   "codemirror_mode": {
    "name": "ipython",
    "version": 3
   },
   "file_extension": ".py",
   "mimetype": "text/x-python",
   "name": "python",
   "nbconvert_exporter": "python",
   "pygments_lexer": "ipython3",
   "version": "3.9.20"
  }
 },
 "nbformat": 4,
 "nbformat_minor": 2
}
